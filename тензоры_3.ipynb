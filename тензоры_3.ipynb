{
  "nbformat": 4,
  "nbformat_minor": 0,
  "metadata": {
    "colab": {
      "provenance": [],
      "authorship_tag": "ABX9TyPbyQxaySVsUxn76VoJ5Re0",
      "include_colab_link": true
    },
    "kernelspec": {
      "name": "python3",
      "display_name": "Python 3"
    },
    "language_info": {
      "name": "python"
    }
  },
  "cells": [
    {
      "cell_type": "markdown",
      "metadata": {
        "id": "view-in-github",
        "colab_type": "text"
      },
      "source": [
        "<a href=\"https://colab.research.google.com/github/olegggwp/code_keyboard_test/blob/master/%D1%82%D0%B5%D0%BD%D0%B7%D0%BE%D1%80%D1%8B_3.ipynb\" target=\"_parent\"><img src=\"https://colab.research.google.com/assets/colab-badge.svg\" alt=\"Open In Colab\"/></a>"
      ]
    },
    {
      "cell_type": "markdown",
      "source": [
        "https://drive.google.com/drive/folders/1ajK2MzfnE2qVVmvAMxV4eO_Orta-XR4W?usp=sharing -- примеры условий + решение 6-й\n",
        "\n",
        "\n",
        "[adv](https://t.me/olegggwpmeme)\n",
        "\n",
        "\n"
      ],
      "metadata": {
        "id": "lzNgU6IT5_Nh"
      }
    },
    {
      "cell_type": "code",
      "execution_count": null,
      "metadata": {
        "id": "7nnimd7OCOJE"
      },
      "outputs": [],
      "source": [
        "  import numpy as np\n",
        "  import itertools"
      ]
    },
    {
      "cell_type": "code",
      "source": [
        "def tensor2d_gayout(a):\n",
        "  print(\"[\", end='')\n",
        "  ass = np.shape(a)\n",
        "  for x in range(ass[0]):\n",
        "    for y in range(ass[1]):\n",
        "      print(a[x, y], end = '')\n",
        "      if not(y == ass[1]-1) :\n",
        "        print(\"\", end=', ')\n",
        "    if x < ass[0]-1:\n",
        "      print(\";\")\n",
        "  print(\"]\", end='')\n",
        "\n",
        "# example = np.arange(9).reshape((3, 3))\n",
        "# print(example)\n",
        "# tensor2d_gayout(example)\n",
        "\n",
        "def toFixed(numObj, digits=0):\n",
        "    return f\"{numObj:.{digits}f}\"\n",
        "\n",
        "def tensor3d_gayout(a):\n",
        "  print(\"[\", end='')\n",
        "  ass = np.shape(a)\n",
        "  for y in range(ass[1]):\n",
        "    for x in range(ass[0]):\n",
        "      for z in range(ass[2]):\n",
        "        print(toFixed(a[x, y, z], 2), end = '')\n",
        "        if not(x == ass[0]-1 and z == ass[2]-1) :\n",
        "          print(\"\", end=', ')\n",
        "    if y < ass[1]-1:\n",
        "      print(\";\")\n",
        "  print(\"]\", end='')\n",
        "# пример \n",
        "# example = np.arange(27).reshape((3, 3, 3))\n",
        "# print(example)\n",
        "# tensor3d_gayout(example)\n",
        "\n",
        "def tensor_mul(a, b):\n",
        "  rshape = np.shape(a) + np.shape(b)\n",
        "  r = np.zeros(rshape)\n",
        "  ita = [range(x) for x in np.shape(a)]\n",
        "  itb = [range(x) for x in np.shape(b)]\n",
        "  for ai in itertools.product(*ita):\n",
        "    for bi in itertools.product(*itb):\n",
        "      # print(a[ai], b[bi])\n",
        "      r[ai + bi] = a[ai]*b[bi]\n",
        "  return r\n",
        "\n",
        "# пример\n",
        "# a = np.array([1, -1, 0])\n",
        "# b = np.arange(1,10).reshape((3, 3))\n",
        "# print(\"a: \", a, sep = '\\n')\n",
        "# print(\"b: \", b, sep = '\\n')\n",
        "# print(\"c: \", tensor_mul(a, b), sep = '\\n')\n",
        "# tensor3d_gayout(tensor_mul(a, b))\n",
        "\n",
        "\n",
        "# WARNING!: новая форма должна быть перестановкой старой,\n",
        "# иначе поведение программы не предсказуемо\n",
        "# [0, 2, 1] -- OK\n",
        "def redefine_shape(ts, reord):\n",
        "  oldshape = np.shape(ts)\n",
        "  n = len(reord)\n",
        "  new_shape = [oldshape[reord[i]] for i in range(n)]\n",
        "  r = np.empty(tuple(new_shape))\n",
        "  si = [range(x) for x in oldshape]\n",
        "  for it in itertools.product(*si):\n",
        "    nw_coord = [it[reord[i]] for i in range(n)]\n",
        "    r[tuple(nw_coord)] = ts[it]\n",
        "  return r\n",
        "# пример\n",
        "# ex = np.arange(6).reshape(2, 3)\n",
        "# print(ex, len([1, 0]))\n",
        "# print(redefine_shape(ex, [1, 0]))\n",
        "\n",
        "def cool3dout(a):\n",
        "  aa = redefine_shape(a, [2, 0, 1])\n",
        "  tensor3d_gayout(aa)"
      ],
      "metadata": {
        "id": "sMOfkutLUjJf"
      },
      "execution_count": null,
      "outputs": []
    },
    {
      "cell_type": "markdown",
      "source": [
        "------------------------------\n"
      ],
      "metadata": {
        "id": "5Rbk5twFpYV7"
      }
    },
    {
      "cell_type": "markdown",
      "source": [
        "## задача 1"
      ],
      "metadata": {
        "id": "s35HXoL41pij"
      }
    },
    {
      "cell_type": "code",
      "source": [
        "a = np.zeros((2, 2, 2, 2))\n",
        "\n",
        "a[:,:,0,0] = [[-3, 2],\n",
        "              [-3, -2]]\n",
        "a[:,:,0,1] = [[0, 3],\n",
        "              [4, -5]]\n",
        "a[:,:,1,0] = [[-4, 1],\n",
        "              [-5, 0]]\n",
        "a[:,:,1,1] = [[5, 6],\n",
        "              [6, -2]]"
      ],
      "metadata": {
        "id": "O6u8ef9_PS39"
      },
      "execution_count": null,
      "outputs": []
    },
    {
      "cell_type": "code",
      "source": [
        "x = [[-1, 1], [-5, -2], [-5, -4], [-5, -3]]"
      ],
      "metadata": {
        "id": "ALf24zneC-ky"
      },
      "execution_count": null,
      "outputs": []
    },
    {
      "cell_type": "code",
      "source": [
        "sum = 0\n",
        "for m in range(2):\n",
        "  for k in range(2):\n",
        "    for n in range(2):\n",
        "      for j in range(2):\n",
        "        sum += a[m, k, j, n] * x[0][m] * x[1][k] * x[2][n] * x[3][j] \n"
      ],
      "metadata": {
        "id": "5FV1AF8xDJji"
      },
      "execution_count": null,
      "outputs": []
    },
    {
      "cell_type": "code",
      "source": [
        "print(sum)"
      ],
      "metadata": {
        "colab": {
          "base_uri": "https://localhost:8080/"
        },
        "id": "2tZu0Xg3EAV4",
        "outputId": "698b72c6-d7fe-45f2-baaf-a81c00db924f"
      },
      "execution_count": null,
      "outputs": [
        {
          "output_type": "stream",
          "name": "stdout",
          "text": [
            "357.0\n"
          ]
        }
      ]
    },
    {
      "cell_type": "markdown",
      "source": [
        "## Задача 2"
      ],
      "metadata": {
        "id": "6pwxyLx4FADo"
      }
    },
    {
      "cell_type": "code",
      "source": [
        "a = np.zeros((2, 2, 2))\n",
        "\n",
        "a[:,:,0] = [[1, -4],[6, 5]]\n",
        "a[:,:,1] = [[1, 1], [5, -4]]\n",
        "\n",
        "x = [[-5, -3], [0, 3], [-1, -2]]"
      ],
      "metadata": {
        "id": "o0phVVwbEDOO"
      },
      "execution_count": null,
      "outputs": []
    },
    {
      "cell_type": "code",
      "source": [
        "sum = 0\n",
        "for i in range(2):\n",
        "  for n in range(2):\n",
        "    for m in range(2):\n",
        "      sum += a[i, n, m] * x[0][i] * x[1][n] * x[2][m]\n",
        "print(sum) "
      ],
      "metadata": {
        "colab": {
          "base_uri": "https://localhost:8080/"
        },
        "id": "Luh_IPoQFaUW",
        "outputId": "dc9a1e7f-6cf8-4d16-ab9e-fcf40bfd2e07"
      },
      "execution_count": null,
      "outputs": [
        {
          "output_type": "stream",
          "name": "stdout",
          "text": [
            "-57.0\n"
          ]
        }
      ]
    },
    {
      "cell_type": "markdown",
      "source": [
        "## Задача 3"
      ],
      "metadata": {
        "id": "T-syj2PBGQGp"
      }
    },
    {
      "cell_type": "code",
      "source": [
        "#_ 12 * e2 * f1 * f1 * f1\n",
        "#_ -48 * e2 * f2 * f1 * f1\n",
        "#_ 8 * e2 * f1 * f1 * f2\n",
        "#_ -32 * e2 * f2 * f1 * f2"
      ],
      "metadata": {
        "id": "MD7z7zObFod8"
      },
      "execution_count": null,
      "outputs": []
    },
    {
      "cell_type": "code",
      "source": [
        "#_ e2 * ( 12 f1 f1 f1  8 f1 f1 f2  -48 f2 f1 f1  -32 f2 f1 f2)\n",
        "\n",
        "#_ e2 * ( 4 f1 f1 (3 f1 + 2 f2)  -16 f2 f1 (3 f1 + 2 f2))\n",
        "\n",
        "#_ e2 * ( 4 f1 f1 -16 f2 f1 ) (3 f1 + 2 f2)\n",
        "\n",
        "#_ 4 e2 * (1 f1 - 4 f2 ) * f1 * (3 f1 + 2 f2)\n",
        "\n",
        "\n"
      ],
      "metadata": {
        "id": "dQNx0xXgJCCh"
      },
      "execution_count": null,
      "outputs": []
    },
    {
      "cell_type": "markdown",
      "source": [
        "## задача 4"
      ],
      "metadata": {
        "id": "uiNFvBspLI7Y"
      }
    },
    {
      "cell_type": "code",
      "source": [
        "## [4 3 1]  [-1 -3 1] [2, 1, -3]"
      ],
      "metadata": {
        "id": "3e4xxbftJi9b"
      },
      "execution_count": null,
      "outputs": []
    },
    {
      "cell_type": "markdown",
      "source": [
        "## задача 5"
      ],
      "metadata": {
        "id": "TxTPEugWL-c-"
      }
    },
    {
      "cell_type": "code",
      "source": [
        "a = np.zeros((3, 3, 3))\n",
        "a[:, :, 0] = [[3, 1, -7],\n",
        "              [-1, 5, 3],\n",
        "              [3, -7, -1]]\n",
        "a[:, :, 1] = [[-3, 7, 7],\n",
        "              [2, 2, -3],\n",
        "              [-7, 8, -5]]\n",
        "\n",
        "a[:, :, 2] = [[6, 3, 2],\n",
        "              [7, 5, 8],\n",
        "              [-7, 7, 3]]\n",
        "\n",
        "# cool3dout(a)\n",
        "\n",
        "e1 = np.array([[-1, -2, 1],\n",
        "               [-1, -1, 0],\n",
        "               [0, 1, 0]])\n",
        "\n",
        "e2 = np.array([[1, -1, -2],\n",
        "               [-1, 2, 1],\n",
        "               [0, -1, 2]])\n",
        "\n",
        "\n",
        "s = np.dot(np.linalg.inv(e2), e1)\n",
        "t = np.dot(np.linalg.inv(e1), e2)\n",
        "\n",
        "# a'(IX,Y) = a(jn,i) * s(I,j) *s(X,n)*t(i,Y)\n",
        "\n",
        "a1 = np.tensordot(a, s, axes = ([0], [1]))\n",
        "a2 = np.tensordot(a1, s, axes = ([0], [1]))\n",
        "a3 = np.tensordot(a2, t, axes = ([0], [0]))\n",
        "\n",
        "\n",
        "cool3dout(a3)"
      ],
      "metadata": {
        "colab": {
          "base_uri": "https://localhost:8080/"
        },
        "id": "YkdR2EK-MBC3",
        "outputId": "fe959fe3-3c11-41d5-9114-6e93cb707041"
      },
      "execution_count": null,
      "outputs": [
        {
          "output_type": "stream",
          "name": "stdout",
          "text": [
            "[4335.0, 1983.0, 895.0, -7937.0, -3652.0, -1660.0, -4245.0, -1894.0, -820.0;\n",
            "1937.0, 887.0, 399.0, -3572.0, -1645.0, -744.0, -1841.0, -822.0, -357.0;\n",
            "875.0, 399.0, 181.0, -1587.0, -729.0, -332.0, -890.0, -394.0, -174.0]"
          ]
        }
      ]
    },
    {
      "cell_type": "code",
      "source": [
        "a = np.zeros((3, 3, 3))\n",
        "a[:, :, 0] = [[1, 0, -6],\n",
        "              [1, -1, 4],\n",
        "              [0, -1, 5]]\n",
        "\n",
        "a[:, :, 1] = [[-1, 7, 6],\n",
        "              [-5, -7, 0],\n",
        "              [-5, -5, -8]]\n",
        "\n",
        "a[:, :, 2] = [[1, 0, 1],\n",
        "              [-4, -5, 5],\n",
        "              [-3, 0, -3]]\n",
        "\n",
        "# cool3dout(a)\n",
        "\n",
        "e1 = np.array([[-1, -2, -1],\n",
        "               [-1, -1, 0],\n",
        "               [0, -1, 0]])\n",
        "\n",
        "e2 = np.array([[-1, -1, -1],\n",
        "               [-1, 0, -2],\n",
        "               [3, 2, 5]])\n",
        "\n",
        "\n",
        "s = np.dot(np.linalg.inv(e2), e1)\n",
        "t = np.dot(np.linalg.inv(e1), e2)\n",
        "\n",
        "# a'(IX,Y) = a(jn,i) * s(I,j) *s(X,n)*t(i,Y)\n",
        "\n",
        "a1 = np.tensordot(a, s, axes = ([0], [1]))\n",
        "a2 = np.tensordot(a1, s, axes = ([0], [1]))\n",
        "a3 = np.tensordot(a2, s, axes = ([0], [1]))\n",
        "\n",
        "print(a3)\n",
        "cool3dout(a3)"
      ],
      "metadata": {
        "colab": {
          "base_uri": "https://localhost:8080/"
        },
        "id": "1VYQRccfBcuI",
        "outputId": "0ce38d0b-43c8-49bc-d76e-b1bbc8e37fcf"
      },
      "execution_count": null,
      "outputs": [
        {
          "output_type": "stream",
          "name": "stdout",
          "text": [
            "[[[-22073.   7937.  10351.]\n",
            "  [  9197.  -3301.  -4313.]\n",
            "  [  9802.  -3527.  -4596.]]\n",
            "\n",
            " [[  7112.  -2537.  -3340.]\n",
            "  [ -3025.   1077.   1421.]\n",
            "  [ -3135.   1119.   1472.]]\n",
            "\n",
            " [[ 10771.  -3882.  -5049.]\n",
            "  [ -4461.   1605.   2091.]\n",
            "  [ -4794.   1729.   2247.]]]\n",
            "[-22073.00, 9197.00, 9802.00, 7937.00, -3301.00, -3527.00, 10351.00, -4313.00, -4596.00;\n",
            "7112.00, -3025.00, -3135.00, -2537.00, 1077.00, 1119.00, -3340.00, 1421.00, 1472.00;\n",
            "10771.00, -4461.00, -4794.00, -3882.00, 1605.00, 1729.00, -5049.00, 2091.00, 2247.00]"
          ]
        }
      ]
    },
    {
      "cell_type": "markdown",
      "source": [
        "# Тензоры 4"
      ],
      "metadata": {
        "id": "wUH2gUR4c-IS"
      }
    },
    {
      "cell_type": "markdown",
      "source": [
        "## Задача 4"
      ],
      "metadata": {
        "id": "zG7wOX51dBnf"
      }
    },
    {
      "cell_type": "code",
      "source": [
        "a = np.zeros((2, 2, 2))\n",
        "\n",
        "a[:,:,0] = [[-6, -6], [0, 0]]\n",
        "\n",
        "a[:,:,1] = [[4, -5], [-2, -3]]\n",
        "\n",
        "b = redefine_shape(a, [1, 0, 2])\n",
        "cool3dout(b)"
      ],
      "metadata": {
        "colab": {
          "base_uri": "https://localhost:8080/"
        },
        "id": "7ar_XDtQc93J",
        "outputId": "c90d31cc-ff3c-4c34-c2c3-c5b81baee29d"
      },
      "execution_count": null,
      "outputs": [
        {
          "output_type": "stream",
          "name": "stdout",
          "text": [
            "[-6.0, 0.0, 4.0, -2.0;\n",
            "-6.0, 0.0, -5.0, -3.0]"
          ]
        }
      ]
    },
    {
      "cell_type": "markdown",
      "source": [
        "## Задача 5"
      ],
      "metadata": {
        "id": "aDwnnJ4bdwyz"
      }
    },
    {
      "cell_type": "code",
      "source": [
        "a = np.zeros((3, 3, 3))\n",
        "\n",
        "a[:,:,0] = [[2, -6, 1],\n",
        "            [4, 2, 5],\n",
        "            [-1, 0, 2]]\n",
        "\n",
        "a[:,:,1] = [[-5, 0, 1],\n",
        "            [4, -4, -3],\n",
        "            [-2, -5, -3]]\n",
        "\n",
        "a[:,:,2] = [[5, 3, -4],\n",
        "            [-5, 6, 4],\n",
        "            [5, -3, 5]]\n",
        "\n",
        "b = redefine_shape(a, [1, 0, 2])\n",
        "cool3dout(b)"
      ],
      "metadata": {
        "colab": {
          "base_uri": "https://localhost:8080/"
        },
        "id": "XtRW357Edok2",
        "outputId": "e94bd9db-f1cb-4d75-c2f7-95e1e37157ae"
      },
      "execution_count": null,
      "outputs": [
        {
          "output_type": "stream",
          "name": "stdout",
          "text": [
            "[2.0, 4.0, -1.0, -5.0, 4.0, -2.0, 5.0, -5.0, 5.0;\n",
            "-6.0, 2.0, 0.0, 0.0, -4.0, -5.0, 3.0, 6.0, -3.0;\n",
            "1.0, 5.0, 2.0, 1.0, -3.0, -3.0, -4.0, 4.0, 5.0]"
          ]
        }
      ]
    },
    {
      "cell_type": "markdown",
      "source": [
        "# Тензоры 4"
      ],
      "metadata": {
        "id": "2jjf1K63ndSi"
      }
    },
    {
      "cell_type": "code",
      "source": [
        "def oodd(p):\n",
        "  n = len(p)\n",
        "  cnt = 0\n",
        "  for i in range(n):\n",
        "    for j in range(i, n):\n",
        "      if p[i] > p[j]:\n",
        "        cnt +=1\n",
        "  return cnt%2"
      ],
      "metadata": {
        "id": "QgD6XhpR1y9k"
      },
      "execution_count": null,
      "outputs": []
    },
    {
      "cell_type": "code",
      "source": [
        "def fact(n):\n",
        "  fuc=1 \n",
        "  for i in range(2,n+1):\n",
        "     fuc=fuc*i\n",
        "  return fuc\n",
        "## симмертизвция\n",
        "def symm(t):\n",
        "  shp = [i for i in range(len(np.shape(t)))]\n",
        "  sperm = [i for i in itertools.permutations(shp)]\n",
        "  res = np.zeros(np.shape(t))\n",
        "  for i in range(len(sperm)):\n",
        "    res += redefine_shape(t, sperm[i])\n",
        "  x = fact(len(np.shape(t)))\n",
        "  res /= x\n",
        "  return res\n",
        "\n",
        "def asymm(t, fixed):\n",
        "  shp = [i for i in range(len(np.shape(t)))]\n",
        "  sperm = []\n",
        "  for i in itertools.permutations(shp):\n",
        "    if all(i[j] == j for j in fixed) or len(fixed) == 0:\n",
        "      sperm.append(i)\n",
        "  \n",
        "  res = np.zeros(np.shape(t))\n",
        "  for i in sperm:\n",
        "    res += ((-1)**oodd(i))*redefine_shape(t, i)\n",
        "  res /= len(sperm)\n",
        "  return res"
      ],
      "metadata": {
        "id": "06FpIMOCebVx"
      },
      "execution_count": null,
      "outputs": []
    },
    {
      "cell_type": "markdown",
      "source": [
        "## задача 7"
      ],
      "metadata": {
        "id": "MuuAfRjIsW5t"
      }
    },
    {
      "cell_type": "code",
      "source": [
        "a = np.zeros((2,2,2))\n",
        "\n",
        "a[:,:,0] = [[4, 5], [2, 5]]\n",
        "\n",
        "a[:,:,1] = [[-5,-2],[2, -4]]\n",
        "\n",
        "b = symm(a)\n",
        "cool3dout(b)"
      ],
      "metadata": {
        "colab": {
          "base_uri": "https://localhost:8080/"
        },
        "id": "juTB1cKrrWaV",
        "outputId": "6616ba34-1985-4cb7-f72b-e3ee8dc93bb8"
      },
      "execution_count": null,
      "outputs": [
        {
          "output_type": "stream",
          "name": "stdout",
          "text": [
            "[4.0, 0.6666666666666666, 0.6666666666666666, 1.6666666666666667;\n",
            "0.6666666666666666, 1.6666666666666667, 1.6666666666666667, -4.0]"
          ]
        }
      ]
    },
    {
      "cell_type": "markdown",
      "source": [
        "## 6"
      ],
      "metadata": {
        "id": "rqFtgYDhuHXc"
      }
    },
    {
      "cell_type": "code",
      "source": [
        "a = np.zeros((3, 3, 3))\n",
        "\n",
        "a[:,:,0] = [[2, -4, -4], [5, 4, -5], [-2, 2, -3]]\n",
        "\n",
        "a[:,:,1] = [[0, -4, 4], [5, -3, 4], [4, 6, 1]]\n",
        "\n",
        "a[:,:,2] = [[2, -6,4],[1, 5, -4], [4, 0, 3]]\n",
        "\n",
        "b = asymm(a, [2])\n",
        "\n",
        "cool3dout(b)"
      ],
      "metadata": {
        "colab": {
          "base_uri": "https://localhost:8080/"
        },
        "id": "x5Epa8wGsoPH",
        "outputId": "f288b0cc-ab97-47eb-b930-e28e17311061"
      },
      "execution_count": null,
      "outputs": [
        {
          "output_type": "stream",
          "name": "stdout",
          "text": [
            "[0.0, -4.5, -1.0, 0.0, -4.5, 0.0, 0.0, -3.5, 0.0;\n",
            "4.5, 0.0, -3.5, 4.5, 0.0, -1.0, 3.5, 0.0, -2.0;\n",
            "1.0, 3.5, 0.0, 0.0, 1.0, 0.0, 0.0, 2.0, 0.0]"
          ]
        }
      ]
    },
    {
      "cell_type": "code",
      "source": [
        "def outer_mul(u, v):\n",
        "  p = len(np.shape(u))\n",
        "  r = len(np.shape(v))\n",
        "  a = tensor_mul(u, v)\n",
        "  a = asymm(a, [])\n",
        "  a *= fact(p+r)\n",
        "  a /= (fact(p)*fact(r))\n",
        "  return a"
      ],
      "metadata": {
        "id": "GMVS6EPYuser"
      },
      "execution_count": null,
      "outputs": []
    },
    {
      "cell_type": "code",
      "source": [
        "a = np.array([0, -6, 2])\n",
        "b = np.array([[0, -5, 4],[0, -2, 6], [-5, -1, -1]])\n",
        "c = outer_mul(a, b)\n",
        "cool3dout(c)\n",
        "# print(\"\")\n",
        "# print(redefine_shape(c,[1, 2, 0]))"
      ],
      "metadata": {
        "colab": {
          "base_uri": "https://localhost:8080/"
        },
        "id": "cj5ap2aMw9-X",
        "outputId": "cff2573a-298f-4224-ac8e-8fc6713b4631"
      },
      "execution_count": null,
      "outputs": [
        {
          "output_type": "stream",
          "name": "stdout",
          "text": [
            "[0.0, 0.0, 0.0, 0.0, 0.0, -22.0, 0.0, 22.0, 0.0;\n",
            "0.0, 0.0, 22.0, 0.0, 0.0, 0.0, -22.0, 0.0, 0.0;\n",
            "0.0, -22.0, 0.0, 22.0, 0.0, 0.0, 0.0, 0.0, 0.0]"
          ]
        }
      ]
    },
    {
      "cell_type": "markdown",
      "source": [],
      "metadata": {
        "id": "NR97IzeB1xpm"
      }
    },
    {
      "cell_type": "code",
      "source": [
        "a = np.array([1, 0, 0])\n",
        "b = np.array([0, 1, 0])\n",
        "# c = np.array([0, 0, 1])\n",
        "dd = outer_mul(a, b)\n",
        "# d = outer_mul(dd, c)\n",
        "print(dd)"
      ],
      "metadata": {
        "colab": {
          "base_uri": "https://localhost:8080/"
        },
        "id": "tVqnNDS72oRH",
        "outputId": "682690a9-53b2-4001-e850-6c9843a4498a"
      },
      "execution_count": null,
      "outputs": [
        {
          "output_type": "stream",
          "name": "stdout",
          "text": [
            "[[ 0.  1.  0.]\n",
            " [-1.  0.  0.]\n",
            " [ 0.  0.  0.]]\n"
          ]
        }
      ]
    },
    {
      "cell_type": "code",
      "source": [
        "a1 = np.array([0, 2, -3])\n",
        "a2 = np.array([1, 4, 0])\n",
        "a3 = np.array([-2, -3, 2])\n",
        "a = tensor_mul(a2, a1)\n",
        "# print(a)\n",
        "b = tensor_mul(a, a3)\n",
        "cool3dout(b)"
      ],
      "metadata": {
        "id": "tv1Ot6rl22-M",
        "colab": {
          "base_uri": "https://localhost:8080/"
        },
        "outputId": "812f27db-c0c3-42b8-a964-f44e39866e83"
      },
      "execution_count": null,
      "outputs": [
        {
          "output_type": "stream",
          "name": "stdout",
          "text": [
            "[-0.0, -4.0, 6.0, -0.0, -6.0, 9.0, 0.0, 4.0, -6.0;\n",
            "-0.0, -16.0, 24.0, -0.0, -24.0, 36.0, 0.0, 16.0, -24.0;\n",
            "-0.0, -0.0, -0.0, -0.0, -0.0, -0.0, 0.0, 0.0, 0.0]"
          ]
        }
      ]
    },
    {
      "cell_type": "code",
      "source": [],
      "metadata": {
        "id": "NXnILwY6nzvX"
      },
      "execution_count": null,
      "outputs": []
    }
  ]
}